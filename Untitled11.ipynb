{
  "nbformat": 4,
  "nbformat_minor": 0,
  "metadata": {
    "colab": {
      "provenance": [],
      "authorship_tag": "ABX9TyPoiuYqjKsASunCkUpwbVx+",
      "include_colab_link": true
    },
    "kernelspec": {
      "name": "python3",
      "display_name": "Python 3"
    },
    "language_info": {
      "name": "python"
    }
  },
  "cells": [
    {
      "cell_type": "markdown",
      "metadata": {
        "id": "view-in-github",
        "colab_type": "text"
      },
      "source": [
        "<a href=\"https://colab.research.google.com/github/adithyasajeev/basic2/blob/main/Untitled11.ipynb\" target=\"_parent\"><img src=\"https://colab.research.google.com/assets/colab-badge.svg\" alt=\"Open In Colab\"/></a>"
      ]
    },
    {
      "cell_type": "code",
      "execution_count": null,
      "metadata": {
        "colab": {
          "base_uri": "https://localhost:8080/"
        },
        "id": "I3QAEOdFsieS",
        "outputId": "26cff655-af16-4ae4-f17f-40fd1b6bc3cb"
      },
      "outputs": [
        {
          "output_type": "stream",
          "name": "stdout",
          "text": [
            "adithya\n"
          ]
        }
      ],
      "source": [
        "def name(x):\n",
        "  print(x)\n",
        "name(x=\"adithya\")"
      ]
    },
    {
      "cell_type": "code",
      "source": [
        "def fifa():\n",
        "  print(\"Fifa World Cup 2022\")\n",
        "fifa()"
      ],
      "metadata": {
        "colab": {
          "base_uri": "https://localhost:8080/"
        },
        "id": "t1w30pQ1vdlY",
        "outputId": "2c086921-9939-46bc-9481-234bac8c1a30"
      },
      "execution_count": null,
      "outputs": [
        {
          "output_type": "stream",
          "name": "stdout",
          "text": [
            "Fifa World Cup 2022\n"
          ]
        }
      ]
    },
    {
      "cell_type": "code",
      "source": [
        "def full_name(n1,n2,n3):\n",
        "  print(n1,n2,n3)\n",
        "full_name(\"Irene\",\"mariyam\",\"binu\")"
      ],
      "metadata": {
        "colab": {
          "base_uri": "https://localhost:8080/"
        },
        "id": "sdV7XuoXv2gV",
        "outputId": "d6e20496-fe65-40b3-8f09-3cfdd1c73962"
      },
      "execution_count": null,
      "outputs": [
        {
          "output_type": "stream",
          "name": "stdout",
          "text": [
            "Irene mariyam binu\n"
          ]
        }
      ]
    },
    {
      "cell_type": "code",
      "source": [
        "def fun_name(country = \"norway\"):\n",
        " print(\"i am from \" + country)\n",
        "\n",
        "fun_name(\"Sweden\")\n",
        "fun_name(\"India\")\n",
        "fun_name(\"norway\")\n",
        "fun_name(\"brazil\")"
      ],
      "metadata": {
        "colab": {
          "base_uri": "https://localhost:8080/"
        },
        "id": "2KUV9xMHy9gF",
        "outputId": "cb568873-6e65-4526-a3ac-b78dadd7df67"
      },
      "execution_count": null,
      "outputs": [
        {
          "output_type": "stream",
          "name": "stdout",
          "text": [
            "i am from Sweden\n",
            "i am from India\n",
            "i am from norway\n",
            "i am from brazil\n"
          ]
        }
      ]
    },
    {
      "cell_type": "code",
      "source": [],
      "metadata": {
        "id": "HyKmXh8Q10Fa"
      },
      "execution_count": null,
      "outputs": []
    }
  ]
}