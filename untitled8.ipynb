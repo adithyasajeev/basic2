{
  "nbformat": 4,
  "nbformat_minor": 0,
  "metadata": {
    "colab": {
      "provenance": [],
      "authorship_tag": "ABX9TyNs4ALzMJB7ec4n0W2UxBSf",
      "include_colab_link": true
    },
    "kernelspec": {
      "name": "python3",
      "display_name": "Python 3"
    },
    "language_info": {
      "name": "python"
    }
  },
  "cells": [
    {
      "cell_type": "markdown",
      "metadata": {
        "id": "view-in-github",
        "colab_type": "text"
      },
      "source": [
        "<a href=\"https://colab.research.google.com/github/adithyasajeev/basic2/blob/main/untitled8.ipynb\" target=\"_parent\"><img src=\"https://colab.research.google.com/assets/colab-badge.svg\" alt=\"Open In Colab\"/></a>"
      ]
    },
    {
      "cell_type": "code",
      "execution_count": null,
      "metadata": {
        "colab": {
          "base_uri": "https://localhost:8080/"
        },
        "id": "Zuz0AWnNhcPO",
        "outputId": "67da9a0f-9e71-4a6c-82b4-babdd261ce36"
      },
      "outputs": [
        {
          "output_type": "stream",
          "name": "stdout",
          "text": [
            "-5\n",
            "absolute value of  5 is 5\n"
          ]
        }
      ],
      "source": [
        "num=int(input())\n",
        "if (num>0):\n",
        "  print(\"absolute value of \" , num, \"is\" ,num)\n",
        "else:\n",
        "  num=num*(-1)\n",
        "  print(\"absolute value of \" , num, \"is\" ,num)"
      ]
    },
    {
      "cell_type": "code",
      "source": [
        "marks=int(input())\n",
        "if marks<25:\n",
        "  print(\"F\")\n",
        "elif marks>25 and marks<45:\n",
        "  print(\"E\")\n",
        "elif marks>45 and marks<50:\n",
        "  print(\"D\")\n",
        "elif marks>50 and marks<60:\n",
        "  print(\"C\")\n",
        "elif marks>60 and marks<80:\n",
        "  print(\"B\")\n",
        "else: \n",
        "  print(\"A\")"
      ],
      "metadata": {
        "colab": {
          "base_uri": "https://localhost:8080/"
        },
        "id": "E9-e07IWkwJ7",
        "outputId": "7aebcdb1-3535-4d41-86b8-3ec547885eca"
      },
      "execution_count": null,
      "outputs": [
        {
          "output_type": "stream",
          "name": "stdout",
          "text": [
            "92\n",
            "A\n"
          ]
        }
      ]
    },
    {
      "cell_type": "code",
      "source": [
        "n1=int(input())\n",
        "n2=int(input())\n",
        "p=n1*n2/100\n",
        "print(p)\n",
        "if p>75:\n",
        "  print(\"student is allowed to sit for exams\")\n",
        "else:\n",
        "  print(\"student is not allowed to sit for exams\")"
      ],
      "metadata": {
        "colab": {
          "base_uri": "https://localhost:8080/"
        },
        "id": "9O1P7JavnWBo",
        "outputId": "8868173f-b2d5-4323-e835-745827e5aaf0"
      },
      "execution_count": null,
      "outputs": [
        {
          "output_type": "stream",
          "name": "stdout",
          "text": [
            "100\n",
            "95\n",
            "95.0\n",
            "student is allowed to sit for exams\n"
          ]
        }
      ]
    },
    {
      "cell_type": "code",
      "source": [
        "print(\"Basic Calculator - Enter Numbers 1-4 to choose operation: \")\n",
        "print(\"1.Add\")\n",
        "print(\"2.Substract\")\n",
        "print(\"3.Multiply\")\n",
        "print(\"4.Divide\")\n",
        "\n",
        "x=int(input(\"Enter Choice(1-4): \"))\n",
        "\n",
        "if x==1:\n",
        "    a=int(input(\"Enter First Number:\"))\n",
        "    b=int(input(\"Enter Second Number:\"))\n",
        "    c=a+b\n",
        "    print(\"Sum = \",c)\n",
        "elif x==2:\n",
        "    a=int(input(\"Enter First Number:\"))\n",
        "    b=int(input(\"Enter Second Number:\"))\n",
        "    c=a-b\n",
        "    print(\"Difference = \",c)\n",
        "elif  x==3:\n",
        "    a=int(input(\"Enter First Number:\"))\n",
        "    b=int(input(\"Enter Second Number:\"))\n",
        "    c=a*b\n",
        "    print(\"Product = \",c)\n",
        "elif x==4:\n",
        "    a=int(input(\"Enter First Number:\"))\n",
        "    b=int(input(\"Enter Second Number:\"))\n",
        "    c=a/b\n",
        "    print(\"Quotient = \",c)\n",
        "else:\n",
        "    print(\"Invalid\")"
      ],
      "metadata": {
        "colab": {
          "base_uri": "https://localhost:8080/"
        },
        "id": "Ywucz0v7plS6",
        "outputId": "a6d90e1e-8cb0-495e-967f-1e6e77d0ad4f"
      },
      "execution_count": null,
      "outputs": [
        {
          "output_type": "stream",
          "name": "stdout",
          "text": [
            "Basic Calculator - Enter Numbers 1-4 to choose operation: \n",
            "1.Add\n",
            "2.Substract\n",
            "3.Multiply\n",
            "4.Divide\n",
            "Enter Choice(1-4): 2\n",
            "Enter First Number:65\n",
            "Enter Second Number:85\n",
            "Difference =  -20\n"
          ]
        }
      ]
    },
    {
      "cell_type": "code",
      "source": [
        "m1=int(input(\"enter the marks\"))\n",
        "m2=int(input(\"enter the marks\"))\n",
        "m3=int(input(\"enter the marks\"))\n",
        "m4=int(input(\"enter the marks\"))\n",
        "m5=int(input(\"enter the marks\"))\n",
        "least marks=in()\n",
        "maximum mark=max() \n"
      ],
      "metadata": {
        "id": "67PJcx-2ynqg"
      },
      "execution_count": null,
      "outputs": []
    }
  ]
}