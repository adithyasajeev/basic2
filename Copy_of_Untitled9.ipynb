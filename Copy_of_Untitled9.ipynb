{
  "nbformat": 4,
  "nbformat_minor": 0,
  "metadata": {
    "colab": {
      "provenance": [],
      "authorship_tag": "ABX9TyOFmtTN4YrIh4yXvbYx7fJD",
      "include_colab_link": true
    },
    "kernelspec": {
      "name": "python3",
      "display_name": "Python 3"
    },
    "language_info": {
      "name": "python"
    }
  },
  "cells": [
    {
      "cell_type": "markdown",
      "metadata": {
        "id": "view-in-github",
        "colab_type": "text"
      },
      "source": [
        "<a href=\"https://colab.research.google.com/github/adithyasajeev/basic2/blob/main/Copy_of_Untitled9.ipynb\" target=\"_parent\"><img src=\"https://colab.research.google.com/assets/colab-badge.svg\" alt=\"Open In Colab\"/></a>"
      ]
    },
    {
      "cell_type": "code",
      "execution_count": null,
      "metadata": {
        "colab": {
          "base_uri": "https://localhost:8080/"
        },
        "id": "sNUs21o2q0OA",
        "outputId": "a2c2122d-627d-425a-a211-3e497f2eb95b"
      },
      "outputs": [
        {
          "output_type": "stream",
          "name": "stdout",
          "text": [
            "enter the number8\n",
            "1 x 8 = 8\n",
            "2 x 8 = 16\n",
            "3 x 8 = 24\n",
            "4 x 8 = 32\n",
            "5 x 8 = 40\n",
            "6 x 8 = 48\n",
            "7 x 8 = 56\n",
            "8 x 8 = 64\n",
            "9 x 8 = 72\n",
            "10 x 8 = 80\n"
          ]
        }
      ],
      "source": [
        "num=int(input(\"enter the number\"))\n",
        "for i in range (1,11):\n",
        "  print(i, \"x\",num,\"=\", i*num)\n"
      ]
    },
    {
      "cell_type": "code",
      "source": [
        "num=int(input())\n",
        "i=1\n",
        "while(i<=10):\n",
        "  print(i, \"x\", num, \"=\", i*num)\n",
        "  i=i+1"
      ],
      "metadata": {
        "colab": {
          "base_uri": "https://localhost:8080/"
        },
        "id": "T1SyoLrEuMAq",
        "outputId": "ba2008a5-7cb9-48c0-9c4b-84ea284c28b6"
      },
      "execution_count": null,
      "outputs": [
        {
          "output_type": "stream",
          "name": "stdout",
          "text": [
            "6\n",
            "1 x 6 = 6\n",
            "2 x 6 = 12\n",
            "3 x 6 = 18\n",
            "4 x 6 = 24\n",
            "5 x 6 = 30\n",
            "6 x 6 = 36\n",
            "7 x 6 = 42\n",
            "8 x 6 = 48\n",
            "9 x 6 = 54\n",
            "10 x 6 = 60\n"
          ]
        }
      ]
    },
    {
      "cell_type": "code",
      "source": [
        "num=(input(\"enter the number\"))\n",
        "d=0\n",
        "for i in num:\n",
        "  #print(i)\n",
        "  d=d+1\n",
        "print(d)"
      ],
      "metadata": {
        "colab": {
          "base_uri": "https://localhost:8080/"
        },
        "id": "Yu4OxjKEzdyX",
        "outputId": "05dfd1cf-363d-48c4-e4cf-fd06fdf86fba"
      },
      "execution_count": null,
      "outputs": [
        {
          "output_type": "stream",
          "name": "stdout",
          "text": [
            "enter the number123456\n",
            "6\n"
          ]
        }
      ]
    },
    {
      "cell_type": "code",
      "source": [
        "x=input(\"enter a string\")\n",
        "w=\"\"\n",
        "for i in x:\n",
        "  w=i+w\n",
        "print(w)\n",
        "if x==w:\n",
        "  print(\"true\")\n",
        "else:\n",
        "  print(\"false\")"
      ],
      "metadata": {
        "colab": {
          "base_uri": "https://localhost:8080/"
        },
        "id": "JdoMF9DG3luW",
        "outputId": "7835473e-0dec-45f7-a171-0288a265d141"
      },
      "execution_count": null,
      "outputs": [
        {
          "output_type": "stream",
          "name": "stdout",
          "text": [
            "enter a stringmom\n",
            "mom\n",
            "true\n"
          ]
        }
      ]
    },
    {
      "cell_type": "code",
      "source": [
        "\n",
        "a=input('Enter Country name ')\n",
        "b=input('Enter Country name ')\n",
        "c=input('Enter Country name ')\n",
        "d=input('Enter Country name ')\n",
        "e=input('Enter Country name ')\n",
        "L=[a,b,c,d,e]\n",
        "print(sorted(L))\n",
        "f=input('Enter another country name ')\n",
        "L.append(f)\n",
        "print(L)"
      ],
      "metadata": {
        "colab": {
          "base_uri": "https://localhost:8080/"
        },
        "id": "7rV2Vr2s914W",
        "outputId": "fea88aad-51bc-4765-84cf-ba428f674c21"
      },
      "execution_count": null,
      "outputs": [
        {
          "output_type": "stream",
          "name": "stdout",
          "text": [
            "Enter Country name UK\n",
            "Enter Country name USA\n",
            "Enter Country name AFRICA\n",
            "Enter Country name AMERICA\n",
            "Enter Country name EUROPE\n",
            "['AFRICA', 'AMERICA', 'EUROPE', 'UK', 'USA']\n",
            "Enter another country name NORWAY\n",
            "['UK', 'USA', 'AFRICA', 'AMERICA', 'EUROPE', 'NORWAY']\n"
          ]
        }
      ]
    },
    {
      "cell_type": "code",
      "source": [],
      "metadata": {
        "id": "h-E-r3zqDcQY"
      },
      "execution_count": null,
      "outputs": []
    }
  ]
}