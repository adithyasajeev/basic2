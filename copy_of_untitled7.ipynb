{
  "nbformat": 4,
  "nbformat_minor": 0,
  "metadata": {
    "colab": {
      "provenance": [],
      "authorship_tag": "ABX9TyO3rMyYvpE+lTvyK7OAnD0n",
      "include_colab_link": true
    },
    "kernelspec": {
      "name": "python3",
      "display_name": "Python 3"
    },
    "language_info": {
      "name": "python"
    }
  },
  "cells": [
    {
      "cell_type": "markdown",
      "metadata": {
        "id": "view-in-github",
        "colab_type": "text"
      },
      "source": [
        "<a href=\"https://colab.research.google.com/github/adithyasajeev/basic2/blob/main/copy_of_untitled7.ipynb\" target=\"_parent\"><img src=\"https://colab.research.google.com/assets/colab-badge.svg\" alt=\"Open In Colab\"/></a>"
      ]
    },
    {
      "cell_type": "code",
      "execution_count": null,
      "metadata": {
        "colab": {
          "base_uri": "https://localhost:8080/"
        },
        "id": "5SjhAW4qoYzD",
        "outputId": "2f06b8af-eed0-4246-f200-ffea6b1b3cb2"
      },
      "outputs": [
        {
          "output_type": "stream",
          "name": "stdout",
          "text": [
            "enter the sourcemoney\n",
            "enter the destinationlondon\n",
            "enter the no of passengers70\n",
            "money\n",
            "london\n",
            "70\n"
          ]
        }
      ],
      "source": [
        "travel_source=input(\"enter the source\")\n",
        "travel_destination=input(\"enter the destination\")\n",
        "no_of_passengers=int(input(\"enter the no of passengers\"))\n",
        "print(travel_source)\n",
        "print(travel_destination)\n",
        "print(no_of_passengers)"
      ]
    },
    {
      "cell_type": "code",
      "source": [
        "total_ticket_fare=int(input(\"enter the total amt\"))\n",
        "no_of_passengers=int(input(\"enter the no of passengers\"))\n",
        "ticket_fare_per_person=(total_ticket_fare/no_of_passengers)\n",
        "print(ticket_fare_per_person)"
      ],
      "metadata": {
        "colab": {
          "base_uri": "https://localhost:8080/"
        },
        "id": "QMw5SzAQqva4",
        "outputId": "7714a735-cc88-406e-dd0c-55400e2dfbc7"
      },
      "execution_count": null,
      "outputs": [
        {
          "output_type": "stream",
          "name": "stdout",
          "text": [
            "enter the total amt7000000\n",
            "enter the no of passengers990\n",
            "7070.707070707071\n"
          ]
        }
      ]
    },
    {
      "cell_type": "code",
      "source": [
        "passenger_name=input(\"enter the passenger name\")\n",
        "ticket_fare=int(input(\"enter ticket fare\"))\n",
        "print(passenger_name,ticket_fare_per_person)"
      ],
      "metadata": {
        "colab": {
          "base_uri": "https://localhost:8080/"
        },
        "id": "IuoASx9yrq4M",
        "outputId": "dcb44e7e-7c2d-4de1-8519-c33d28b8fc9d"
      },
      "execution_count": null,
      "outputs": [
        {
          "output_type": "stream",
          "name": "stdout",
          "text": [
            "enter the passenger nameachu \n",
            "enter ticket fare900\n",
            "achu  7070.707070707071\n"
          ]
        }
      ]
    },
    {
      "cell_type": "code",
      "source": [
        "total_ticket_fare=int(input(\"enter total ticket fare\"))\n",
        "if total_ticket_fare>10000:\n",
        "  print(\"Eligible for discount\")"
      ],
      "metadata": {
        "colab": {
          "base_uri": "https://localhost:8080/"
        },
        "id": "JDsqZThYt7IA",
        "outputId": "00e9e50a-a209-49a0-ca43-83f8a05df518"
      },
      "execution_count": null,
      "outputs": [
        {
          "output_type": "stream",
          "name": "stdout",
          "text": [
            "enter total ticket fare20000000\n",
            "Eligible for discount\n"
          ]
        }
      ]
    },
    {
      "cell_type": "code",
      "source": [
        "total_ticket_fare=int(input(\"enter total ticket fare\"))\n",
        "if total_ticket_fare>15000:\n",
        "  print(\"eligibility for 20% discount\")\n",
        "else:\n",
        "  print(\"eligible for 10% discount\")"
      ],
      "metadata": {
        "colab": {
          "base_uri": "https://localhost:8080/"
        },
        "id": "CuW7t8givShj",
        "outputId": "3f78f8f8-68ca-461c-cd9e-844a52a9f82b"
      },
      "execution_count": null,
      "outputs": [
        {
          "output_type": "stream",
          "name": "stdout",
          "text": [
            "enter total ticket fare600000\n",
            "eligibility for 20% discount\n"
          ]
        }
      ]
    },
    {
      "cell_type": "code",
      "source": [
        "total_ticket_fare=int(input(\"enter the totalticket fare\"))\n",
        "if total_ticket_fare>15000:\n",
        "  twenty_per_cent_discount=total_ticket_fare*20/100\n",
        "  print(\"eligibility for 20% discount\",twenty_per_cent_discount)\n",
        "elif total_ticket_fare>10000 and total_ticket_fare<15000:\n",
        "  ten_per_cent_discount=total_ticket_fare*10/100\n",
        "  print(\"eligibility for 10% discount\",ten_per_cent_discount)\n",
        "elif total_ticket_fare<10000:\n",
        "    five_per_cent_dscount=total_ticket_fare*5/100\n",
        "    print(\"eligibile for 5% discount\", five_per_cent_discount)"
      ],
      "metadata": {
        "colab": {
          "base_uri": "https://localhost:8080/"
        },
        "id": "OMbF0PjJyqOZ",
        "outputId": "0a04643e-368a-4184-d73b-9db1ebea8f73"
      },
      "execution_count": null,
      "outputs": [
        {
          "output_type": "stream",
          "name": "stdout",
          "text": [
            "enter the totalticket fare70000000\n",
            "eligibility for 20% discount 14000000.0\n"
          ]
        }
      ]
    },
    {
      "cell_type": "code",
      "source": [
        "x=int(input(\"enter the number\"))\n",
        "if x>0:\n",
        "  print(\"the number is positive\")\n",
        "elif x==0:\n",
        "  print(\"the number is zero\")\n",
        "elif x<0:\n",
        "  print(\"the number is negative\")"
      ],
      "metadata": {
        "colab": {
          "base_uri": "https://localhost:8080/"
        },
        "id": "40UDn8ep2UXJ",
        "outputId": "0e6ea5aa-9a2d-4b75-e829-391560d9edb1"
      },
      "execution_count": null,
      "outputs": [
        {
          "output_type": "stream",
          "name": "stdout",
          "text": [
            "enter the number-9\n",
            "the number is negative\n"
          ]
        }
      ]
    },
    {
      "cell_type": "code",
      "source": [
        "age=int(input(\"enter the number\"))\n",
        "if age>18:\n",
        "  print(\"adult\")\n",
        "elif age>13 and age<19:\n",
        "  print(\"teenager\")\n",
        "elif age>6 and age<13:\n",
        "  print(\"toddler\")\n",
        "elif age<2:\n",
        "  print(\"infant\")"
      ],
      "metadata": {
        "colab": {
          "base_uri": "https://localhost:8080/"
        },
        "id": "MVTMVvv23jxd",
        "outputId": "8a970e84-c11a-448a-b83b-9482ba2d1647"
      },
      "execution_count": null,
      "outputs": [
        {
          "output_type": "stream",
          "name": "stdout",
          "text": [
            "enter the number15\n",
            "teenager\n"
          ]
        }
      ]
    },
    {
      "cell_type": "code",
      "source": [
        "n1"
      ],
      "metadata": {
        "id": "mkrMzL2L5fDp"
      },
      "execution_count": null,
      "outputs": []
    }
  ]
}