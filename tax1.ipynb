{
  "nbformat": 4,
  "nbformat_minor": 0,
  "metadata": {
    "colab": {
      "provenance": [],
      "toc_visible": true,
      "authorship_tag": "ABX9TyPhYsomji325J69OgyYjQIq",
      "include_colab_link": true
    },
    "kernelspec": {
      "name": "python3",
      "display_name": "Python 3"
    },
    "language_info": {
      "name": "python"
    }
  },
  "cells": [
    {
      "cell_type": "markdown",
      "metadata": {
        "id": "view-in-github",
        "colab_type": "text"
      },
      "source": [
        "<a href=\"https://colab.research.google.com/github/adithyasajeev/basic2/blob/main/tax1.ipynb\" target=\"_parent\"><img src=\"https://colab.research.google.com/assets/colab-badge.svg\" alt=\"Open In Colab\"/></a>"
      ]
    },
    {
      "cell_type": "code",
      "execution_count": 19,
      "metadata": {
        "colab": {
          "base_uri": "https://localhost:8080/"
        },
        "id": "WYAQuGumpD-Q",
        "outputId": "4e49f7ff-6c4e-4fae-bbd3-ec1928208374"
      },
      "outputs": [
        {
          "output_type": "stream",
          "name": "stdout",
          "text": [
            "99999787\n",
            "your tax amount\n"
          ]
        }
      ],
      "source": [
        "salary=int(input())\n",
        "if salary <2500000 :\n",
        "  print(\"not taxable\")\n",
        "if salary >2500000 and salary<500000 :\n",
        "  print(\"your tax amount is\" , (salary-250000)*10/100)\n",
        "if salary >500000 and salary<750000 :\n",
        "  print(\"your tax amount is\" , (250000*10/100) + (salary-500000)*20/100)\n",
        "if salary >750000 :\n",
        "  print(\"your tax amount\"),(250000)*10/100 + ((salary-7500000)*30/100)+ ((salary-750000)*2/100)"
      ]
    },
    {
      "cell_type": "code",
      "source": [
        "       "
      ],
      "metadata": {
        "id": "ykbp7iiCxv4L"
      },
      "execution_count": 19,
      "outputs": []
    },
    {
      "cell_type": "code",
      "source": [],
      "metadata": {
        "id": "CS42EbAN7r42"
      },
      "execution_count": 19,
      "outputs": []
    }
  ]
}