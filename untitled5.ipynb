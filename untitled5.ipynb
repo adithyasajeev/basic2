{
  "nbformat": 4,
  "nbformat_minor": 0,
  "metadata": {
    "colab": {
      "provenance": []
    },
    "kernelspec": {
      "name": "python3",
      "display_name": "Python 3"
    },
    "language_info": {
      "name": "python"
    }
  },
  "cells": [
    {
      "cell_type": "code",
      "execution_count": null,
      "metadata": {
        "id": "it4T8ylhrGqV"
      },
      "outputs": [],
      "source": [
        "def adithya():\n",
        "  print(\"huaahhahahahhahahhahahahhahahhhhh\")"
      ]
    },
    {
      "cell_type": "code",
      "source": [
        "adithya()"
      ],
      "metadata": {
        "colab": {
          "base_uri": "https://localhost:8080/"
        },
        "id": "O14V4UQotkoM",
        "outputId": "7be5ad50-d226-47a1-b0db-69e7328fc643"
      },
      "execution_count": null,
      "outputs": [
        {
          "output_type": "stream",
          "name": "stdout",
          "text": [
            "huaahhahahahhahahhahahahhahahhhhh\n"
          ]
        }
      ]
    },
    {
      "cell_type": "code",
      "source": [
        "def adithya(x,y):\n",
        "  z=x+y\n",
        "  print(\"result = \", z)"
      ],
      "metadata": {
        "id": "s3_hMlnwtqnw"
      },
      "execution_count": null,
      "outputs": []
    },
    {
      "cell_type": "code",
      "source": [
        "adithya(2,3)"
      ],
      "metadata": {
        "colab": {
          "base_uri": "https://localhost:8080/"
        },
        "id": "X-HNQhekvJDo",
        "outputId": "eba589b5-645b-4f92-fff3-fb58222a1359"
      },
      "execution_count": null,
      "outputs": [
        {
          "output_type": "stream",
          "name": "stdout",
          "text": [
            "result =  5\n"
          ]
        }
      ]
    },
    {
      "cell_type": "code",
      "source": [
        "def adithya(x,y):\n",
        "  z=x-y\n",
        "  print(\"result = \", z)\n"
      ],
      "metadata": {
        "id": "LAmqi25jvR3g"
      },
      "execution_count": null,
      "outputs": []
    },
    {
      "cell_type": "code",
      "source": [
        "adithya(3,2)"
      ],
      "metadata": {
        "colab": {
          "base_uri": "https://localhost:8080/"
        },
        "id": "LycKsBVRvYbT",
        "outputId": "9eabcff8-1fb8-42c3-c357-857bb362193c"
      },
      "execution_count": null,
      "outputs": [
        {
          "output_type": "stream",
          "name": "stdout",
          "text": [
            "result =  1\n"
          ]
        }
      ]
    },
    {
      "cell_type": "code",
      "source": [
        "def adithya(x,y):\n",
        "  z=x*y\n",
        "  print(\"result = \", z)"
      ],
      "metadata": {
        "id": "2BIpXkk1vbnt"
      },
      "execution_count": null,
      "outputs": []
    },
    {
      "cell_type": "code",
      "source": [
        "adithya(2,3)"
      ],
      "metadata": {
        "colab": {
          "base_uri": "https://localhost:8080/"
        },
        "id": "6rlQsI3lviIJ",
        "outputId": "c3c835d8-bb0d-4be0-80d3-d3335472096a"
      },
      "execution_count": null,
      "outputs": [
        {
          "output_type": "stream",
          "name": "stdout",
          "text": [
            "result =  6\n"
          ]
        }
      ]
    },
    {
      "cell_type": "code",
      "source": [
        "def adithya(salary):\n",
        "  if x>250000:\n",
        "    print(\"you are taxable\")\n",
        "  else:\n",
        "    print(\"you are not taxable\")"
      ],
      "metadata": {
        "id": "BUr4RVBKvmIf"
      },
      "execution_count": null,
      "outputs": []
    },
    {
      "cell_type": "code",
      "source": [
        "x=int(input(\"enter a salary\"))\n",
        "adithya(x)"
      ],
      "metadata": {
        "colab": {
          "base_uri": "https://localhost:8080/"
        },
        "id": "FZvjityWzI_s",
        "outputId": "f7e0fe31-ea87-4ef2-998a-c12079433faa"
      },
      "execution_count": null,
      "outputs": [
        {
          "output_type": "stream",
          "name": "stdout",
          "text": [
            "enter a salary5000000\n",
            "you are taxable\n"
          ]
        }
      ]
    },
    {
      "cell_type": "code",
      "source": [
        "def adithya(x):\n",
        "  k=0\n",
        "  for a in range(1,x):\n",
        "     k=k+a\n",
        "  print(k)"
      ],
      "metadata": {
        "id": "N7fQDMkSzfXb"
      },
      "execution_count": null,
      "outputs": []
    },
    {
      "cell_type": "code",
      "source": [
        "adithya(10)"
      ],
      "metadata": {
        "colab": {
          "base_uri": "https://localhost:8080/"
        },
        "id": "GUnaeNUT9DrL",
        "outputId": "46d23513-5090-4fd7-a368-5541967f1c61"
      },
      "execution_count": null,
      "outputs": [
        {
          "output_type": "stream",
          "name": "stdout",
          "text": [
            "45\n"
          ]
        }
      ]
    },
    {
      "cell_type": "code",
      "source": [
        "def add(x,y):\n",
        "   print(x+y)\n",
        "def sub(x,y):\n",
        "   print(x-y)"
      ],
      "metadata": {
        "id": "9eXI0Liz9JIh"
      },
      "execution_count": null,
      "outputs": []
    },
    {
      "cell_type": "code",
      "source": [
        "x=int(input(\"enter a number\"))\n",
        "y=int(input(\"enter a number\"))\n",
        "add(x,y)\n",
        "sub(x,y)"
      ],
      "metadata": {
        "colab": {
          "base_uri": "https://localhost:8080/"
        },
        "id": "LxCPJBxA9dc8",
        "outputId": "f2c77f7a-ee4d-4bb8-8242-d2760d60584e"
      },
      "execution_count": null,
      "outputs": [
        {
          "output_type": "stream",
          "name": "stdout",
          "text": [
            "enter a number7\n",
            "enter a number7\n",
            "14\n",
            "0\n"
          ]
        }
      ]
    },
    {
      "cell_type": "code",
      "source": [],
      "metadata": {
        "id": "sOg1IUsu-bp9"
      },
      "execution_count": null,
      "outputs": []
    }
  ]
}